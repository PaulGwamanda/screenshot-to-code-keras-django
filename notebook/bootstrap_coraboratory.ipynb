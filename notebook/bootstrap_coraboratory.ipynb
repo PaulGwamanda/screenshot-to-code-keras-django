{
 "cells": [
  {
   "cell_type": "code",
   "execution_count": 1,
   "metadata": {
    "colab": {
     "base_uri": "https://localhost:8080/",
     "height": 34
    },
    "colab_type": "code",
    "executionInfo": {
     "elapsed": 2510,
     "status": "ok",
     "timestamp": 1560742673057,
     "user": {
      "displayName": "siny",
      "photoUrl": "https://lh4.googleusercontent.com/-z-yylDZd2Yg/AAAAAAAAAAI/AAAAAAAABkU/u9SL84LCO0o/s64/photo.jpg",
      "userId": "06524332640654327564"
     },
     "user_tz": -540
    },
    "id": "p3tltYR_guAn",
    "outputId": "336e9e8c-7aa0-4631-eeb7-5112afe49349"
   },
   "outputs": [
    {
     "name": "stderr",
     "output_type": "stream",
     "text": [
      "Using TensorFlow backend.\n"
     ]
    }
   ],
   "source": [
    "from os import listdir\n",
    "from numpy import array\n",
    "from keras.preprocessing.text import Tokenizer, one_hot\n",
    "from keras.preprocessing.sequence import pad_sequences\n",
    "from keras.models import Model, Sequential, model_from_json\n",
    "from keras.utils import to_categorical\n",
    "from keras.layers.core import Dense, Dropout, Flatten\n",
    "from keras.optimizers import RMSprop\n",
    "from keras.layers.convolutional import Conv2D\n",
    "from keras.callbacks import ModelCheckpoint\n",
    "from keras.layers import Embedding, TimeDistributed, RepeatVector, LSTM, concatenate , Input, Reshape, Dense\n",
    "from keras.preprocessing.image import array_to_img, img_to_array, load_img\n",
    "import numpy as np"
   ]
  },
  {
   "cell_type": "code",
   "execution_count": 0,
   "metadata": {
    "colab": {},
    "colab_type": "code",
    "id": "jqo7_VZ4g0KG"
   },
   "outputs": [],
   "source": [
    "mkdir resources\n"
   ]
  },
  {
   "cell_type": "code",
   "execution_count": 0,
   "metadata": {
    "colab": {},
    "colab_type": "code",
    "id": "r_7Z1H38g8zV"
   },
   "outputs": [],
   "source": [
    "mkdir compiler"
   ]
  },
  {
   "cell_type": "code",
   "execution_count": 7,
   "metadata": {
    "colab": {
     "base_uri": "https://localhost:8080/",
     "height": 34
    },
    "colab_type": "code",
    "executionInfo": {
     "elapsed": 510,
     "status": "ok",
     "timestamp": 1560742738773,
     "user": {
      "displayName": "siny",
      "photoUrl": "https://lh4.googleusercontent.com/-z-yylDZd2Yg/AAAAAAAAAAI/AAAAAAAABkU/u9SL84LCO0o/s64/photo.jpg",
      "userId": "06524332640654327564"
     },
     "user_tz": -540
    },
    "id": "tv9CZ7S1hAfo",
    "outputId": "f6b0497b-7b01-4825-e43b-e12f7cf55cd5"
   },
   "outputs": [
    {
     "name": "stdout",
     "output_type": "stream",
     "text": [
      "/content/resources\n"
     ]
    }
   ],
   "source": [
    "cd resources"
   ]
  },
  {
   "cell_type": "code",
   "execution_count": 0,
   "metadata": {
    "colab": {},
    "colab_type": "code",
    "id": "mAbnWblAhDhT"
   },
   "outputs": [],
   "source": [
    "mkdir eval_light"
   ]
  },
  {
   "cell_type": "code",
   "execution_count": 9,
   "metadata": {
    "colab": {
     "base_uri": "https://localhost:8080/",
     "height": 113,
     "resources": {
      "http://localhost:8080/nbextensions/google.colab/files.js": {
       "data": "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",
       "headers": [
        [
         "content-type",
         "application/javascript"
        ]
       ],
       "ok": true,
       "status": 200,
       "status_text": ""
      }
     }
    },
    "colab_type": "code",
    "executionInfo": {
     "elapsed": 23494,
     "status": "ok",
     "timestamp": 1560743061158,
     "user": {
      "displayName": "siny",
      "photoUrl": "https://lh4.googleusercontent.com/-z-yylDZd2Yg/AAAAAAAAAAI/AAAAAAAABkU/u9SL84LCO0o/s64/photo.jpg",
      "userId": "06524332640654327564"
     },
     "user_tz": -540
    },
    "id": "Pd1DfQ-JhGij",
    "outputId": "5e962c05-bdc5-4d7b-aec5-695c80a82cf8"
   },
   "outputs": [
    {
     "data": {
      "text/html": [
       "\n",
       "     <input type=\"file\" id=\"files-4c4eb070-1df4-4cc0-8d3d-704219903b8a\" name=\"files[]\" multiple disabled />\n",
       "     <output id=\"result-4c4eb070-1df4-4cc0-8d3d-704219903b8a\">\n",
       "      Upload widget is only available when the cell has been executed in the\n",
       "      current browser session. Please rerun this cell to enable.\n",
       "      </output>\n",
       "      <script src=\"/nbextensions/google.colab/files.js\"></script> "
      ],
      "text/plain": [
       "<IPython.core.display.HTML object>"
      ]
     },
     "metadata": {
      "tags": []
     },
     "output_type": "display_data"
    },
    {
     "name": "stdout",
     "output_type": "stream",
     "text": [
      "Saving bootstrap.vocab to bootstrap.vocab\n",
      "Saving example.png to example.png\n"
     ]
    }
   ],
   "source": [
    "from google.colab import files\n",
    "uploaded = files.upload()"
   ]
  },
  {
   "cell_type": "code",
   "execution_count": 10,
   "metadata": {
    "colab": {
     "base_uri": "https://localhost:8080/",
     "height": 34
    },
    "colab_type": "code",
    "executionInfo": {
     "elapsed": 448,
     "status": "ok",
     "timestamp": 1560743066987,
     "user": {
      "displayName": "siny",
      "photoUrl": "https://lh4.googleusercontent.com/-z-yylDZd2Yg/AAAAAAAAAAI/AAAAAAAABkU/u9SL84LCO0o/s64/photo.jpg",
      "userId": "06524332640654327564"
     },
     "user_tz": -540
    },
    "id": "klQB8un6hBP6",
    "outputId": "235d0d55-f277-4640-bcad-ad3460b1dd22"
   },
   "outputs": [
    {
     "name": "stdout",
     "output_type": "stream",
     "text": [
      "/content/resources/eval_light\n"
     ]
    }
   ],
   "source": [
    "cd  eval_light"
   ]
  },
  {
   "cell_type": "code",
   "execution_count": 11,
   "metadata": {
    "colab": {
     "base_uri": "https://localhost:8080/",
     "height": 725,
     "resources": {
      "http://localhost:8080/nbextensions/google.colab/files.js": {
       "data": "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",
       "headers": [
        [
         "content-type",
         "application/javascript"
        ]
       ],
       "ok": true,
       "status": 200,
       "status_text": ""
      }
     }
    },
    "colab_type": "code",
    "executionInfo": {
     "elapsed": 33963,
     "status": "ok",
     "timestamp": 1560743110808,
     "user": {
      "displayName": "siny",
      "photoUrl": "https://lh4.googleusercontent.com/-z-yylDZd2Yg/AAAAAAAAAAI/AAAAAAAABkU/u9SL84LCO0o/s64/photo.jpg",
      "userId": "06524332640654327564"
     },
     "user_tz": -540
    },
    "id": "ES1PISSZiTpv",
    "outputId": "62316029-6547-418f-962b-40717266070b"
   },
   "outputs": [
    {
     "data": {
      "text/html": [
       "\n",
       "     <input type=\"file\" id=\"files-4417aa6f-676c-404d-bb57-f6f86675d666\" name=\"files[]\" multiple disabled />\n",
       "     <output id=\"result-4417aa6f-676c-404d-bb57-f6f86675d666\">\n",
       "      Upload widget is only available when the cell has been executed in the\n",
       "      current browser session. Please rerun this cell to enable.\n",
       "      </output>\n",
       "      <script src=\"/nbextensions/google.colab/files.js\"></script> "
      ],
      "text/plain": [
       "<IPython.core.display.HTML object>"
      ]
     },
     "metadata": {
      "tags": []
     },
     "output_type": "display_data"
    },
    {
     "name": "stdout",
     "output_type": "stream",
     "text": [
      "Saving 00CDC9A8-3D73-4291-90EF-49178E408797.gui to 00CDC9A8-3D73-4291-90EF-49178E408797.gui\n",
      "Saving 00CDC9A8-3D73-4291-90EF-49178E408797.npz to 00CDC9A8-3D73-4291-90EF-49178E408797.npz\n",
      "Saving 0BA2A4B4-4193-4506-8818-31564225EF8B.gui to 0BA2A4B4-4193-4506-8818-31564225EF8B.gui\n",
      "Saving 0BA2A4B4-4193-4506-8818-31564225EF8B.npz to 0BA2A4B4-4193-4506-8818-31564225EF8B.npz\n",
      "Saving 0CC0512B-11C5-481C-BC81-534F1FC9EC0A.gui to 0CC0512B-11C5-481C-BC81-534F1FC9EC0A.gui\n",
      "Saving 0CC0512B-11C5-481C-BC81-534F1FC9EC0A.npz to 0CC0512B-11C5-481C-BC81-534F1FC9EC0A.npz\n",
      "Saving 0D1C8ADB-D9F0-48EC-B5AA-205BCF96094E.gui to 0D1C8ADB-D9F0-48EC-B5AA-205BCF96094E.gui\n",
      "Saving 0D1C8ADB-D9F0-48EC-B5AA-205BCF96094E.npz to 0D1C8ADB-D9F0-48EC-B5AA-205BCF96094E.npz\n",
      "Saving 0FBAB0B3-24CB-42EF-8803-BFDEB8C3EFDC.gui to 0FBAB0B3-24CB-42EF-8803-BFDEB8C3EFDC.gui\n",
      "Saving 0FBAB0B3-24CB-42EF-8803-BFDEB8C3EFDC.npz to 0FBAB0B3-24CB-42EF-8803-BFDEB8C3EFDC.npz\n",
      "Saving 1A5D96CE-F23A-4EB5-84BF-F6F2A3B6D185.gui to 1A5D96CE-F23A-4EB5-84BF-F6F2A3B6D185.gui\n",
      "Saving 1A5D96CE-F23A-4EB5-84BF-F6F2A3B6D185.npz to 1A5D96CE-F23A-4EB5-84BF-F6F2A3B6D185.npz\n",
      "Saving 1D70C31F-C198-4159-8388-18CB2BDA15D6.gui to 1D70C31F-C198-4159-8388-18CB2BDA15D6.gui\n",
      "Saving 1D70C31F-C198-4159-8388-18CB2BDA15D6.npz to 1D70C31F-C198-4159-8388-18CB2BDA15D6.npz\n",
      "Saving 1EA2A9DA-E8A6-4011-9841-A7758E979F77.gui to 1EA2A9DA-E8A6-4011-9841-A7758E979F77.gui\n",
      "Saving 1EA2A9DA-E8A6-4011-9841-A7758E979F77.npz to 1EA2A9DA-E8A6-4011-9841-A7758E979F77.npz\n",
      "Saving 1F4D3508-2479-4D8A-B5F0-92CF690BD1AE.gui to 1F4D3508-2479-4D8A-B5F0-92CF690BD1AE.gui\n",
      "Saving 1F4D3508-2479-4D8A-B5F0-92CF690BD1AE.npz to 1F4D3508-2479-4D8A-B5F0-92CF690BD1AE.npz\n",
      "Saving 1FA12698-2EA0-45D0-A40D-A7DF1D903036.gui to 1FA12698-2EA0-45D0-A40D-A7DF1D903036.gui\n",
      "Saving 1FA12698-2EA0-45D0-A40D-A7DF1D903036.npz to 1FA12698-2EA0-45D0-A40D-A7DF1D903036.npz\n"
     ]
    }
   ],
   "source": [
    "from google.colab import files\n",
    "uploaded = files.upload()"
   ]
  },
  {
   "cell_type": "code",
   "execution_count": 12,
   "metadata": {
    "colab": {
     "base_uri": "https://localhost:8080/",
     "height": 34
    },
    "colab_type": "code",
    "executionInfo": {
     "elapsed": 458,
     "status": "ok",
     "timestamp": 1560743119542,
     "user": {
      "displayName": "siny",
      "photoUrl": "https://lh4.googleusercontent.com/-z-yylDZd2Yg/AAAAAAAAAAI/AAAAAAAABkU/u9SL84LCO0o/s64/photo.jpg",
      "userId": "06524332640654327564"
     },
     "user_tz": -540
    },
    "id": "r5mp-5tKg4G9",
    "outputId": "8bcabbe0-fdc7-4f33-c781-1b2253fd8618"
   },
   "outputs": [
    {
     "data": {
      "text/plain": [
       "'/content/resources/eval_light'"
      ]
     },
     "execution_count": 12,
     "metadata": {
      "tags": []
     },
     "output_type": "execute_result"
    }
   ],
   "source": [
    "pwd"
   ]
  },
  {
   "cell_type": "code",
   "execution_count": 13,
   "metadata": {
    "colab": {
     "base_uri": "https://localhost:8080/",
     "height": 34
    },
    "colab_type": "code",
    "executionInfo": {
     "elapsed": 466,
     "status": "ok",
     "timestamp": 1560743124559,
     "user": {
      "displayName": "siny",
      "photoUrl": "https://lh4.googleusercontent.com/-z-yylDZd2Yg/AAAAAAAAAAI/AAAAAAAABkU/u9SL84LCO0o/s64/photo.jpg",
      "userId": "06524332640654327564"
     },
     "user_tz": -540
    },
    "id": "PhhLb_DUiggF",
    "outputId": "b2175366-aedd-4b2b-f5bf-8d2c23ff9bb0"
   },
   "outputs": [
    {
     "name": "stdout",
     "output_type": "stream",
     "text": [
      "/content\n"
     ]
    }
   ],
   "source": [
    "cd /content"
   ]
  },
  {
   "cell_type": "code",
   "execution_count": 14,
   "metadata": {
    "colab": {
     "base_uri": "https://localhost:8080/",
     "height": 34
    },
    "colab_type": "code",
    "executionInfo": {
     "elapsed": 492,
     "status": "ok",
     "timestamp": 1560743126149,
     "user": {
      "displayName": "siny",
      "photoUrl": "https://lh4.googleusercontent.com/-z-yylDZd2Yg/AAAAAAAAAAI/AAAAAAAABkU/u9SL84LCO0o/s64/photo.jpg",
      "userId": "06524332640654327564"
     },
     "user_tz": -540
    },
    "id": "EDzbTKrCihst",
    "outputId": "390d231d-46aa-4e14-d050-22ef11cda8b0"
   },
   "outputs": [
    {
     "data": {
      "text/plain": [
       "'/content'"
      ]
     },
     "execution_count": 14,
     "metadata": {
      "tags": []
     },
     "output_type": "execute_result"
    }
   ],
   "source": [
    "pwd"
   ]
  },
  {
   "cell_type": "code",
   "execution_count": 0,
   "metadata": {
    "colab": {},
    "colab_type": "code",
    "id": "40a9kGAhguAt"
   },
   "outputs": [],
   "source": [
    "dir_name = 'resources/eval_light/'\n",
    "\n",
    "# Read a file and return a string\n",
    "def load_doc(filename):\n",
    "    file = open(filename, 'r')\n",
    "    text = file.read()\n",
    "    file.close()\n",
    "    return text\n",
    "\n",
    "def load_data(data_dir):\n",
    "    text = []\n",
    "    images = []\n",
    "    # Load all the files and order them\n",
    "    all_filenames = listdir(data_dir)\n",
    "    all_filenames.sort()\n",
    "    for filename in (all_filenames):\n",
    "        if filename[-3:] == \"npz\":\n",
    "            # Load the images already prepared in arrays\n",
    "            image = np.load(data_dir+filename)\n",
    "            images.append(image['features'])\n",
    "        else:\n",
    "            # Load the boostrap tokens and rap them in a start and end tag\n",
    "            syntax = '<START> ' + load_doc(data_dir+filename) + ' <END>'\n",
    "            # Seperate all the words with a single space\n",
    "            syntax = ' '.join(syntax.split())\n",
    "            # Add a space after each comma\n",
    "            syntax = syntax.replace(',', ' ,')\n",
    "            text.append(syntax)\n",
    "    images = np.array(images, dtype=float)\n",
    "    return images, text\n",
    "\n",
    "train_features, texts = load_data(dir_name)"
   ]
  },
  {
   "cell_type": "code",
   "execution_count": 19,
   "metadata": {
    "colab": {
     "base_uri": "https://localhost:8080/",
     "height": 88
    },
    "colab_type": "code",
    "executionInfo": {
     "elapsed": 584,
     "status": "ok",
     "timestamp": 1560743216769,
     "user": {
      "displayName": "siny",
      "photoUrl": "https://lh4.googleusercontent.com/-z-yylDZd2Yg/AAAAAAAAAAI/AAAAAAAABkU/u9SL84LCO0o/s64/photo.jpg",
      "userId": "06524332640654327564"
     },
     "user_tz": -540
    },
    "id": "aLa8oPDuiuwD",
    "outputId": "caaa9624-d7a8-49a5-ef8d-049293d3f0c8"
   },
   "outputs": [
    {
     "name": "stdout",
     "output_type": "stream",
     "text": [
      "(10, 256, 256, 3)\n",
      "10\n",
      "['<START> header { btn-inactive , btn-active , btn-inactive , btn-inactive , btn-inactive } row { quadruple { small-title , text , btn-orange } quadruple { small-title , text , btn-red } quadruple { small-title , text , btn-green } quadruple { small-title , text , btn-orange } } row { single { small-title , text , btn-green } } <END>', '<START> header { btn-inactive , btn-inactive , btn-active , btn-inactive , btn-inactive } row { double { small-title , text , btn-green } double { small-title , text , btn-green } } row { single { small-title , text , btn-orange } } row { quadruple { small-title , text , btn-orange } quadruple { small-title , text , btn-green } quadruple { small-title , text , btn-red } quadruple { small-title , text , btn-green } } <END>', '<START> header { btn-inactive , btn-inactive , btn-inactive , btn-active } row { double { small-title , text , btn-green } double { small-title , text , btn-green } } row { single { small-title , text , btn-orange } } row { quadruple { small-title , text , btn-green } quadruple { small-title , text , btn-green } quadruple { small-title , text , btn-green } quadruple { small-title , text , btn-orange } } <END>', '<START> header { btn-active , btn-inactive , btn-inactive } row { single { small-title , text , btn-red } } row { quadruple { small-title , text , btn-orange } quadruple { small-title , text , btn-green } quadruple { small-title , text , btn-red } quadruple { small-title , text , btn-red } } row { double { small-title , text , btn-red } double { small-title , text , btn-green } } <END>', '<START> header { btn-inactive , btn-inactive , btn-active , btn-inactive } row { double { small-title , text , btn-red } double { small-title , text , btn-green } } <END>', '<START> header { btn-active , btn-inactive } row { single { small-title , text , btn-green } } row { quadruple { small-title , text , btn-orange } quadruple { small-title , text , btn-orange } quadruple { small-title , text , btn-green } quadruple { small-title , text , btn-red } } row { double { small-title , text , btn-green } double { small-title , text , btn-orange } } <END>', '<START> header { btn-inactive , btn-inactive , btn-active } row { quadruple { small-title , text , btn-green } quadruple { small-title , text , btn-orange } quadruple { small-title , text , btn-green } quadruple { small-title , text , btn-green } } row { single { small-title , text , btn-red } } row { double { small-title , text , btn-orange } double { small-title , text , btn-orange } } <END>', '<START> header { btn-active , btn-inactive } row { double { small-title , text , btn-green } double { small-title , text , btn-orange } } row { single { small-title , text , btn-orange } } row { quadruple { small-title , text , btn-green } quadruple { small-title , text , btn-green } quadruple { small-title , text , btn-red } quadruple { small-title , text , btn-red } } <END>', '<START> header { btn-inactive , btn-inactive , btn-active , btn-inactive , btn-inactive } row { single { small-title , text , btn-green } } row { quadruple { small-title , text , btn-red } quadruple { small-title , text , btn-red } quadruple { small-title , text , btn-green } quadruple { small-title , text , btn-red } } row { quadruple { small-title , text , btn-green } quadruple { small-title , text , btn-red } quadruple { small-title , text , btn-orange } quadruple { small-title , text , btn-green } } <END>', '<START> header { btn-inactive , btn-inactive , btn-inactive , btn-active } row { double { small-title , text , btn-orange } double { small-title , text , btn-orange } } row { quadruple { small-title , text , btn-orange } quadruple { small-title , text , btn-orange } quadruple { small-title , text , btn-green } quadruple { small-title , text , btn-red } } <END>']\n"
     ]
    }
   ],
   "source": [
    "print(train_features.shape)\n",
    "print(len(texts))\n",
    "print(texts)"
   ]
  },
  {
   "cell_type": "code",
   "execution_count": 0,
   "metadata": {
    "colab": {},
    "colab_type": "code",
    "id": "9yhQWlwuguAz"
   },
   "outputs": [],
   "source": [
    "# Initialize the function to create the vocabulary \n",
    "tokenizer = Tokenizer(filters='', split=\" \", lower=False)\n",
    "# Create the vocabulary \n",
    "tokenizer.fit_on_texts([load_doc('resources/bootstrap.vocab')])\n",
    "\n",
    "# Add one spot for the empty word in the vocabulary \n",
    "vocab_size = len(tokenizer.word_index) + 1\n",
    "# Map the input sentences into the vocabulary indexes\n",
    "train_sequences = tokenizer.texts_to_sequences(texts)\n",
    "# The longest set of boostrap tokens\n",
    "max_sequence = max(len(s) for s in train_sequences)\n",
    "# Specify how many tokens to have in each input sentence\n",
    "max_length = 48\n",
    "\n",
    "def preprocess_data(sequences, features):\n",
    "    X, y, image_data = list(), list(), list()\n",
    "    for img_no, seq in enumerate(sequences):\n",
    "        for i in range(1, len(seq)):\n",
    "            # Add the sentence until the current count(i) and add the current count to the output\n",
    "            in_seq, out_seq = seq[:i], seq[i]\n",
    "            # Pad all the input token sentences to max_sequence\n",
    "            in_seq = pad_sequences([in_seq], maxlen=max_sequence)[0]\n",
    "            # Turn the output into one-hot encoding\n",
    "            out_seq = to_categorical([out_seq], num_classes=vocab_size)[0]\n",
    "            # Add the corresponding image to the boostrap token file\n",
    "            image_data.append(features[img_no])\n",
    "            # Cap the input sentence to 48 tokens and add it\n",
    "            X.append(in_seq[-48:])\n",
    "            y.append(out_seq)\n",
    "    return np.array(X), np.array(y), np.array(image_data)\n",
    "\n",
    "X, y, image_data = preprocess_data(train_sequences, train_features)"
   ]
  },
  {
   "cell_type": "code",
   "execution_count": 21,
   "metadata": {
    "colab": {
     "base_uri": "https://localhost:8080/",
     "height": 68
    },
    "colab_type": "code",
    "executionInfo": {
     "elapsed": 438,
     "status": "ok",
     "timestamp": 1560743251724,
     "user": {
      "displayName": "siny",
      "photoUrl": "https://lh4.googleusercontent.com/-z-yylDZd2Yg/AAAAAAAAAAI/AAAAAAAABkU/u9SL84LCO0o/s64/photo.jpg",
      "userId": "06524332640654327564"
     },
     "user_tz": -540
    },
    "id": "XKNApeQYi9za",
    "outputId": "d110534a-9973-4b01-a7d5-e6b1f636f3da"
   },
   "outputs": [
    {
     "name": "stdout",
     "output_type": "stream",
     "text": [
      "(694, 48)\n",
      "(694, 18)\n",
      "(694, 256, 256, 3)\n"
     ]
    }
   ],
   "source": [
    "print(X.shape)\n",
    "print(y.shape)\n",
    "print(image_data.shape)"
   ]
  },
  {
   "cell_type": "code",
   "execution_count": 0,
   "metadata": {
    "colab": {},
    "colab_type": "code",
    "id": "Hzff4jKWguA2"
   },
   "outputs": [],
   "source": [
    "#Create the encoder\n",
    "image_model = Sequential()\n",
    "image_model.add(Conv2D(16, (3, 3), padding='valid', activation='relu', input_shape=(256, 256, 3,)))\n",
    "image_model.add(Conv2D(16, (3,3), activation='relu', padding='same', strides=2))\n",
    "image_model.add(Conv2D(32, (3,3), activation='relu', padding='same'))\n",
    "image_model.add(Conv2D(32, (3,3), activation='relu', padding='same', strides=2))\n",
    "image_model.add(Conv2D(64, (3,3), activation='relu', padding='same'))\n",
    "image_model.add(Conv2D(64, (3,3), activation='relu', padding='same', strides=2))\n",
    "image_model.add(Conv2D(128, (3,3), activation='relu', padding='same'))\n",
    "\n",
    "image_model.add(Flatten())\n",
    "image_model.add(Dense(1024, activation='relu'))\n",
    "image_model.add(Dropout(0.3))\n",
    "image_model.add(Dense(1024, activation='relu'))\n",
    "image_model.add(Dropout(0.3))\n",
    "\n",
    "image_model.add(RepeatVector(max_length))\n",
    "\n",
    "visual_input = Input(shape=(256, 256, 3,))\n",
    "encoded_image = image_model(visual_input)\n",
    "\n",
    "language_input = Input(shape=(max_length,))\n",
    "language_model = Embedding(vocab_size, 50, input_length=max_length, mask_zero=True)(language_input)\n",
    "language_model = LSTM(128, return_sequences=True)(language_model)\n",
    "language_model = LSTM(128, return_sequences=True)(language_model)\n",
    "\n",
    "#Create the decoder\n",
    "decoder = concatenate([encoded_image, language_model])\n",
    "decoder = LSTM(512, return_sequences=True)(decoder)\n",
    "decoder = LSTM(512, return_sequences=False)(decoder)\n",
    "decoder = Dense(vocab_size, activation='softmax')(decoder)\n",
    "\n",
    "# Compile the model\n",
    "model = Model(inputs=[visual_input, language_input], outputs=decoder)\n",
    "optimizer = RMSprop(lr=0.0001, clipvalue=1.0)\n",
    "model.compile(loss='categorical_crossentropy', optimizer=optimizer, metrics=['accuracy'] )"
   ]
  },
  {
   "cell_type": "code",
   "execution_count": 0,
   "metadata": {
    "colab": {},
    "colab_type": "code",
    "id": "4zvZcAkCguA6"
   },
   "outputs": [],
   "source": [
    "#Save the model for every 2nd epoch\n",
    "filepath=\"org-weights-epoch-{epoch:04d}--val_loss-{val_loss:.4f}--loss-{loss:.4f}.hdf5\"\n",
    "checkpoint = ModelCheckpoint(filepath, monitor='val_loss', verbose=1, save_weights_only=True, period=2)\n",
    "callbacks_list = [checkpoint]"
   ]
  },
  {
   "cell_type": "code",
   "execution_count": 26,
   "metadata": {
    "colab": {
     "base_uri": "https://localhost:8080/",
     "height": 2604
    },
    "colab_type": "code",
    "executionInfo": {
     "elapsed": 11685168,
     "status": "ok",
     "timestamp": 1560756611145,
     "user": {
      "displayName": "siny",
      "photoUrl": "https://lh4.googleusercontent.com/-z-yylDZd2Yg/AAAAAAAAAAI/AAAAAAAABkU/u9SL84LCO0o/s64/photo.jpg",
      "userId": "06524332640654327564"
     },
     "user_tz": -540
    },
    "id": "wGgr3-9sguBA",
    "outputId": "aab028bf-72da-4f8f-989a-583ad8bd145a"
   },
   "outputs": [
    {
     "name": "stdout",
     "output_type": "stream",
     "text": [
      "Train on 624 samples, validate on 70 samples\n",
      "Epoch 1/50\n",
      "624/624 [==============================] - 279s 447ms/step - loss: 2.5164 - acc: 0.1987 - val_loss: 2.3843 - val_acc: 0.2286\n",
      "Epoch 2/50\n",
      "624/624 [==============================] - 267s 428ms/step - loss: 2.3960 - acc: 0.2115 - val_loss: 2.3296 - val_acc: 0.2429\n",
      "\n",
      "Epoch 00002: saving model to org-weights-epoch-0002--val_loss-2.3296--loss-2.3960.hdf5\n",
      "Epoch 3/50\n",
      "624/624 [==============================] - 268s 430ms/step - loss: 2.3308 - acc: 0.2019 - val_loss: 2.3140 - val_acc: 0.2429\n",
      "Epoch 4/50\n",
      "624/624 [==============================] - 263s 422ms/step - loss: 2.1112 - acc: 0.2788 - val_loss: 2.6817 - val_acc: 0.2000\n",
      "\n",
      "Epoch 00004: saving model to org-weights-epoch-0004--val_loss-2.6817--loss-2.1112.hdf5\n",
      "Epoch 5/50\n",
      "624/624 [==============================] - 264s 423ms/step - loss: 1.7264 - acc: 0.3766 - val_loss: 2.1509 - val_acc: 0.3429\n",
      "Epoch 6/50\n",
      "624/624 [==============================] - 264s 423ms/step - loss: 1.4295 - acc: 0.5096 - val_loss: 2.4133 - val_acc: 0.3143\n",
      "\n",
      "Epoch 00006: saving model to org-weights-epoch-0006--val_loss-2.4133--loss-1.4295.hdf5\n",
      "Epoch 7/50\n",
      "624/624 [==============================] - 266s 427ms/step - loss: 1.2168 - acc: 0.5417 - val_loss: 3.1602 - val_acc: 0.2000\n",
      "Epoch 8/50\n",
      "624/624 [==============================] - 265s 425ms/step - loss: 1.1362 - acc: 0.5769 - val_loss: 2.5528 - val_acc: 0.3143\n",
      "\n",
      "Epoch 00008: saving model to org-weights-epoch-0008--val_loss-2.5528--loss-1.1362.hdf5\n",
      "Epoch 9/50\n",
      "624/624 [==============================] - 266s 427ms/step - loss: 1.0720 - acc: 0.5833 - val_loss: 3.3623 - val_acc: 0.3000\n",
      "Epoch 10/50\n",
      "624/624 [==============================] - 265s 425ms/step - loss: 1.0517 - acc: 0.5897 - val_loss: 3.6084 - val_acc: 0.2714\n",
      "\n",
      "Epoch 00010: saving model to org-weights-epoch-0010--val_loss-3.6084--loss-1.0517.hdf5\n",
      "Epoch 11/50\n",
      "624/624 [==============================] - 265s 424ms/step - loss: 1.0235 - acc: 0.6090 - val_loss: 3.1819 - val_acc: 0.3143\n",
      "Epoch 12/50\n",
      "624/624 [==============================] - 264s 423ms/step - loss: 0.9030 - acc: 0.6490 - val_loss: 2.8407 - val_acc: 0.3286\n",
      "\n",
      "Epoch 00012: saving model to org-weights-epoch-0012--val_loss-2.8407--loss-0.9030.hdf5\n",
      "Epoch 13/50\n",
      "624/624 [==============================] - 264s 424ms/step - loss: 0.8410 - acc: 0.6891 - val_loss: 2.7294 - val_acc: 0.3429\n",
      "Epoch 14/50\n",
      "624/624 [==============================] - 264s 424ms/step - loss: 0.9491 - acc: 0.6731 - val_loss: 2.9347 - val_acc: 0.2714\n",
      "\n",
      "Epoch 00014: saving model to org-weights-epoch-0014--val_loss-2.9347--loss-0.9491.hdf5\n",
      "Epoch 15/50\n",
      "624/624 [==============================] - 264s 423ms/step - loss: 0.8490 - acc: 0.6891 - val_loss: 2.5506 - val_acc: 0.3429\n",
      "Epoch 16/50\n",
      "624/624 [==============================] - 263s 422ms/step - loss: 0.7925 - acc: 0.6891 - val_loss: 2.5035 - val_acc: 0.4143\n",
      "\n",
      "Epoch 00016: saving model to org-weights-epoch-0016--val_loss-2.5035--loss-0.7925.hdf5\n",
      "Epoch 17/50\n",
      "624/624 [==============================] - 264s 423ms/step - loss: 0.7994 - acc: 0.7067 - val_loss: 2.0323 - val_acc: 0.4286\n",
      "Epoch 18/50\n",
      "624/624 [==============================] - 265s 424ms/step - loss: 0.6892 - acc: 0.7340 - val_loss: 2.4450 - val_acc: 0.4000\n",
      "\n",
      "Epoch 00018: saving model to org-weights-epoch-0018--val_loss-2.4450--loss-0.6892.hdf5\n",
      "Epoch 19/50\n",
      "624/624 [==============================] - 265s 424ms/step - loss: 0.6715 - acc: 0.7468 - val_loss: 1.9190 - val_acc: 0.4714\n",
      "Epoch 20/50\n",
      "624/624 [==============================] - 264s 424ms/step - loss: 0.6140 - acc: 0.7564 - val_loss: 2.0979 - val_acc: 0.5000\n",
      "\n",
      "Epoch 00020: saving model to org-weights-epoch-0020--val_loss-2.0979--loss-0.6140.hdf5\n",
      "Epoch 21/50\n",
      "624/624 [==============================] - 264s 423ms/step - loss: 0.6539 - acc: 0.7628 - val_loss: 2.3823 - val_acc: 0.4857\n",
      "Epoch 22/50\n",
      "624/624 [==============================] - 263s 422ms/step - loss: 0.5952 - acc: 0.7804 - val_loss: 2.2117 - val_acc: 0.5143\n",
      "\n",
      "Epoch 00022: saving model to org-weights-epoch-0022--val_loss-2.2117--loss-0.5952.hdf5\n",
      "Epoch 23/50\n",
      "624/624 [==============================] - 262s 419ms/step - loss: 0.5779 - acc: 0.7933 - val_loss: 2.6332 - val_acc: 0.4857\n",
      "Epoch 24/50\n",
      "624/624 [==============================] - 262s 419ms/step - loss: 0.5683 - acc: 0.7917 - val_loss: 2.6483 - val_acc: 0.4286\n",
      "\n",
      "Epoch 00024: saving model to org-weights-epoch-0024--val_loss-2.6483--loss-0.5683.hdf5\n",
      "Epoch 25/50\n",
      "624/624 [==============================] - 262s 421ms/step - loss: 0.5258 - acc: 0.8221 - val_loss: 1.9575 - val_acc: 0.5571\n",
      "Epoch 26/50\n",
      "624/624 [==============================] - 262s 420ms/step - loss: 0.4970 - acc: 0.8173 - val_loss: 3.2747 - val_acc: 0.3286\n",
      "\n",
      "Epoch 00026: saving model to org-weights-epoch-0026--val_loss-3.2747--loss-0.4970.hdf5\n",
      "Epoch 27/50\n",
      "624/624 [==============================] - 261s 419ms/step - loss: 0.4871 - acc: 0.8237 - val_loss: 2.0651 - val_acc: 0.5429\n",
      "Epoch 28/50\n",
      "624/624 [==============================] - 263s 421ms/step - loss: 0.4060 - acc: 0.8526 - val_loss: 1.9311 - val_acc: 0.5429\n",
      "\n",
      "Epoch 00028: saving model to org-weights-epoch-0028--val_loss-1.9311--loss-0.4060.hdf5\n",
      "Epoch 29/50\n",
      "624/624 [==============================] - 262s 421ms/step - loss: 0.4049 - acc: 0.8558 - val_loss: 2.3795 - val_acc: 0.5143\n",
      "Epoch 30/50\n",
      "624/624 [==============================] - 261s 419ms/step - loss: 0.3812 - acc: 0.8750 - val_loss: 2.7282 - val_acc: 0.4429\n",
      "\n",
      "Epoch 00030: saving model to org-weights-epoch-0030--val_loss-2.7282--loss-0.3812.hdf5\n",
      "Epoch 31/50\n",
      "624/624 [==============================] - 262s 419ms/step - loss: 0.3514 - acc: 0.8734 - val_loss: 2.7226 - val_acc: 0.4571\n",
      "Epoch 32/50\n",
      "624/624 [==============================] - 261s 418ms/step - loss: 0.3569 - acc: 0.8670 - val_loss: 2.4433 - val_acc: 0.5429\n",
      "\n",
      "Epoch 00032: saving model to org-weights-epoch-0032--val_loss-2.4433--loss-0.3569.hdf5\n",
      "Epoch 33/50\n",
      "624/624 [==============================] - 261s 418ms/step - loss: 0.3236 - acc: 0.8846 - val_loss: 1.5346 - val_acc: 0.6429\n",
      "Epoch 34/50\n",
      "624/624 [==============================] - 262s 420ms/step - loss: 0.3289 - acc: 0.8894 - val_loss: 2.2386 - val_acc: 0.5714\n",
      "\n",
      "Epoch 00034: saving model to org-weights-epoch-0034--val_loss-2.2386--loss-0.3289.hdf5\n",
      "Epoch 35/50\n",
      "624/624 [==============================] - 263s 422ms/step - loss: 0.3105 - acc: 0.8862 - val_loss: 2.4151 - val_acc: 0.5143\n",
      "Epoch 36/50\n",
      "624/624 [==============================] - 263s 421ms/step - loss: 0.2812 - acc: 0.8958 - val_loss: 1.9136 - val_acc: 0.6857\n",
      "\n",
      "Epoch 00036: saving model to org-weights-epoch-0036--val_loss-1.9136--loss-0.2812.hdf5\n",
      "Epoch 37/50\n",
      "624/624 [==============================] - 263s 421ms/step - loss: 0.2447 - acc: 0.8990 - val_loss: 2.3167 - val_acc: 0.5714\n",
      "Epoch 38/50\n",
      "624/624 [==============================] - 263s 422ms/step - loss: 0.2656 - acc: 0.9135 - val_loss: 3.1395 - val_acc: 0.3714\n",
      "\n",
      "Epoch 00038: saving model to org-weights-epoch-0038--val_loss-3.1395--loss-0.2656.hdf5\n",
      "Epoch 39/50\n",
      "624/624 [==============================] - 264s 423ms/step - loss: 0.2695 - acc: 0.9071 - val_loss: 2.6011 - val_acc: 0.5286\n",
      "Epoch 40/50\n",
      "624/624 [==============================] - 264s 422ms/step - loss: 0.2399 - acc: 0.9199 - val_loss: 1.7595 - val_acc: 0.6143\n",
      "\n",
      "Epoch 00040: saving model to org-weights-epoch-0040--val_loss-1.7595--loss-0.2399.hdf5\n",
      "Epoch 41/50\n",
      "624/624 [==============================] - 264s 423ms/step - loss: 0.2326 - acc: 0.9119 - val_loss: 2.8745 - val_acc: 0.5429\n",
      "Epoch 42/50\n",
      "624/624 [==============================] - 264s 423ms/step - loss: 0.2141 - acc: 0.9199 - val_loss: 2.3618 - val_acc: 0.5714\n",
      "\n",
      "Epoch 00042: saving model to org-weights-epoch-0042--val_loss-2.3618--loss-0.2141.hdf5\n",
      "Epoch 43/50\n",
      "624/624 [==============================] - 262s 419ms/step - loss: 0.2040 - acc: 0.9247 - val_loss: 3.2187 - val_acc: 0.5143\n",
      "Epoch 44/50\n",
      "624/624 [==============================] - 263s 421ms/step - loss: 0.2252 - acc: 0.9215 - val_loss: 4.0553 - val_acc: 0.4000\n",
      "\n",
      "Epoch 00044: saving model to org-weights-epoch-0044--val_loss-4.0553--loss-0.2252.hdf5\n",
      "Epoch 45/50\n",
      "624/624 [==============================] - 267s 428ms/step - loss: 0.2198 - acc: 0.9327 - val_loss: 3.1220 - val_acc: 0.4571\n",
      "Epoch 46/50\n",
      "624/624 [==============================] - 262s 420ms/step - loss: 0.2340 - acc: 0.9279 - val_loss: 3.1342 - val_acc: 0.4286\n",
      "\n",
      "Epoch 00046: saving model to org-weights-epoch-0046--val_loss-3.1342--loss-0.2340.hdf5\n",
      "Epoch 47/50\n",
      "624/624 [==============================] - 263s 422ms/step - loss: 0.2031 - acc: 0.9359 - val_loss: 3.0339 - val_acc: 0.5000\n",
      "Epoch 48/50\n",
      "624/624 [==============================] - 262s 420ms/step - loss: 0.1981 - acc: 0.9407 - val_loss: 3.1068 - val_acc: 0.4286\n",
      "\n",
      "Epoch 00048: saving model to org-weights-epoch-0048--val_loss-3.1068--loss-0.1981.hdf5\n",
      "Epoch 49/50\n",
      "624/624 [==============================] - 263s 422ms/step - loss: 0.2071 - acc: 0.9295 - val_loss: 2.5746 - val_acc: 0.5143\n",
      "Epoch 50/50\n",
      "624/624 [==============================] - 262s 420ms/step - loss: 0.1879 - acc: 0.9375 - val_loss: 2.4383 - val_acc: 0.5000\n",
      "\n",
      "Epoch 00050: saving model to org-weights-epoch-0050--val_loss-2.4383--loss-0.1879.hdf5\n"
     ]
    }
   ],
   "source": [
    "# Train the model\n",
    "history = model.fit([image_data, X], y, batch_size=1, shuffle=False, validation_split=0.1, callbacks=callbacks_list, verbose=1, epochs=50)"
   ]
  },
  {
   "cell_type": "code",
   "execution_count": 28,
   "metadata": {
    "colab": {
     "base_uri": "https://localhost:8080/",
     "height": 269
    },
    "colab_type": "code",
    "executionInfo": {
     "elapsed": 601,
     "status": "ok",
     "timestamp": 1560756633361,
     "user": {
      "displayName": "siny",
      "photoUrl": "https://lh4.googleusercontent.com/-z-yylDZd2Yg/AAAAAAAAAAI/AAAAAAAABkU/u9SL84LCO0o/s64/photo.jpg",
      "userId": "06524332640654327564"
     },
     "user_tz": -540
    },
    "id": "tRDAKmGIguBF",
    "outputId": "d9ebf5cc-93c4-4bf4-bc1c-6298494839f7"
   },
   "outputs": [
    {
     "data": {
      "image/png": "[encoded data removed]",
      "text/plain": [
       "<Figure size 432x288 with 1 Axes>"
      ]
     },
     "metadata": {
      "tags": []
     },
     "output_type": "display_data"
    }
   ],
   "source": [
    "%matplotlib inline\n",
    "import matplotlib.pyplot as plt\n",
    "\n",
    "loss = history.history['loss']\n",
    "val_loss = history.history['val_loss']\n",
    "\n",
    "plt.plot(np.arange(len(loss)), loss)\n",
    "plt.plot(np.arange(len(val_loss)), val_loss)\n",
    "plt.show()"
   ]
  },
  {
   "cell_type": "code",
   "execution_count": 0,
   "metadata": {
    "colab": {},
    "colab_type": "code",
    "id": "nqpQQCOVjn8G"
   },
   "outputs": [],
   "source": [
    "from keras.models import load_model\n",
    "model.save('bootstrap_model.h5')\n",
    "#model = load_model('html_model.h5')"
   ]
  },
  {
   "cell_type": "code",
   "execution_count": 0,
   "metadata": {
    "colab": {},
    "colab_type": "code",
    "id": "ud-XhgDWbJFB"
   },
   "outputs": [],
   "source": [
    "model.save_weights('bootstrap_weight.hdf5')"
   ]
  },
  {
   "cell_type": "code",
   "execution_count": 34,
   "metadata": {
    "colab": {
     "base_uri": "https://localhost:8080/",
     "height": 442
    },
    "colab_type": "code",
    "executionInfo": {
     "elapsed": 133776,
     "status": "ok",
     "timestamp": 1560757364742,
     "user": {
      "displayName": "siny",
      "photoUrl": "https://lh4.googleusercontent.com/-z-yylDZd2Yg/AAAAAAAAAAI/AAAAAAAABkU/u9SL84LCO0o/s64/photo.jpg",
      "userId": "06524332640654327564"
     },
     "user_tz": -540
    },
    "id": "0un3Zu85WQSP",
    "outputId": "c3aa674b-0ec5-43dc-c601-6ab228da887c"
   },
   "outputs": [
    {
     "name": "stderr",
     "output_type": "stream",
     "text": [
      "----------------------------------------\n",
      "Exception happened during processing of request from ('::ffff:127.0.0.1', 40240, 0, 0)\n",
      "Traceback (most recent call last):\n",
      "  File \"/usr/lib/python3.6/socketserver.py\", line 317, in _handle_request_noblock\n",
      "    self.process_request(request, client_address)\n",
      "  File \"/usr/lib/python3.6/socketserver.py\", line 348, in process_request\n",
      "    self.finish_request(request, client_address)\n",
      "  File \"/usr/lib/python3.6/socketserver.py\", line 361, in finish_request\n",
      "    self.RequestHandlerClass(request, client_address, self)\n",
      "  File \"/usr/lib/python3.6/socketserver.py\", line 721, in __init__\n",
      "    self.handle()\n",
      "  File \"/usr/lib/python3.6/http/server.py\", line 418, in handle\n",
      "    self.handle_one_request()\n",
      "  File \"/usr/lib/python3.6/http/server.py\", line 406, in handle_one_request\n",
      "    method()\n",
      "  File \"/usr/lib/python3.6/http/server.py\", line 639, in do_GET\n",
      "    self.copyfile(f, self.wfile)\n",
      "  File \"/usr/lib/python3.6/http/server.py\", line 800, in copyfile\n",
      "    shutil.copyfileobj(source, outputfile)\n",
      "  File \"/usr/lib/python3.6/shutil.py\", line 82, in copyfileobj\n",
      "    fdst.write(buf)\n",
      "  File \"/usr/lib/python3.6/socketserver.py\", line 800, in write\n",
      "    self._sock.sendall(b)\n",
      "ConnectionResetError: [Errno 104] Connection reset by peer\n",
      "----------------------------------------\n"
     ]
    }
   ],
   "source": [
    "from google.colab import files\n",
    "files.download(\"bootstrap_model.h5\")"
   ]
  }
 ],
 "metadata": {
  "accelerator": "GPU",
  "colab": {
   "collapsed_sections": [],
   "name": "bootstrap.ipynb",
   "provenance": [],
   "version": "0.3.2"
  },
  "kernelspec": {
   "display_name": "Python 3",
   "language": "python",
   "name": "python3"
  },
  "language_info": {
   "codemirror_mode": {
    "name": "ipython",
    "version": 3
   },
   "file_extension": ".py",
   "mimetype": "text/x-python",
   "name": "python",
   "nbconvert_exporter": "python",
   "pygments_lexer": "ipython3",
   "version": "3.6.5"
  }
 },
 "nbformat": 4,
 "nbformat_minor": 1
}
